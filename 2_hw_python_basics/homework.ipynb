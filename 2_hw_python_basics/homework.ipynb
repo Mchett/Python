{
 "cells": [
  {
   "cell_type": "markdown",
   "metadata": {},
   "source": [
    "### Задание 1\n",
    "Даны 2 переменных, в которых хранятся строки произвольной длины: phrase_1 и phrase_2.\n",
    "Напишите код, который проверяет какая из этих строк длиннее."
   ]
  },
  {
   "cell_type": "code",
   "execution_count": 23,
   "metadata": {},
   "outputs": [
    {
     "name": "stdout",
     "output_type": "stream",
     "text": [
      "Фраза 1 длиннее фразы 2\n"
     ]
    }
   ],
   "source": [
    "phrase_1 = 'Насколько'\n",
    "phrase_2 = '640Кб'\n",
    "if len(phrase_1) > len(phrase_2):\n",
    "    print('Фраза 1 длиннее фразы 2')\n",
    "elif len(phrase_1) < len(phrase_2):\n",
    "    print('Фраза 2 длиннее фразы 1')\n",
    "else:\n",
    "    print('Фразы равной длины')"
   ]
  },
  {
   "cell_type": "markdown",
   "metadata": {},
   "source": [
    "### Задание 2\n",
    "Дана переменная, в которой хранится четырехзначное число (год). Необходимо написать программу, которая выведет, является ли данный год високосным или обычным."
   ]
  },
  {
   "cell_type": "code",
   "execution_count": 24,
   "metadata": {},
   "outputs": [
    {
     "name": "stdout",
     "output_type": "stream",
     "text": [
      "Обычный год\n"
     ]
    }
   ],
   "source": [
    "year = 1900\n",
    "if year % 100 == 0 and year % 400 == 0 or year % 100 != 0 and year % 4 == 0:\n",
    "    print('Високосный год')\n",
    "else:\n",
    "    print('Обычный год')"
   ]
  },
  {
   "cell_type": "markdown",
   "metadata": {},
   "source": [
    "### Задание 3\n",
    "\n",
    "Необходимо написать программу, которая будет запрашивать у пользователя месяц и дату рождения и выводить соответствующий знак зодиака."
   ]
  },
  {
   "cell_type": "code",
   "execution_count": 25,
   "metadata": {},
   "outputs": [
    {
     "name": "stdout",
     "output_type": "stream",
     "text": [
      "Введите день:\n",
      "8\n",
      "Введите месяц:\n",
      "Октябрь\n",
      "Ваш знак зодиака: Весы\n"
     ]
    }
   ],
   "source": [
    "print('Введите день:')\n",
    "day = int(input())\n",
    "print('Введите месяц:')\n",
    "month = input()\n",
    "result = 'Ваш знак зодиака: '\n",
    "if day >= 21 and month == 'Март' or day <= 20 and month == 'Апрель':\n",
    "    result += 'Овен'\n",
    "\n",
    "elif day >= 21 and month == 'Апрель' or day <= 21 and month == 'Май':\n",
    "    result += 'Телец'\n",
    "\n",
    "elif day >= 22 and month == 'Май' or day <= 21 and month == 'Июнь':\n",
    "    result += 'Близнецы'\n",
    "\n",
    "elif day >= 22 and month == 'Июнь' or day <= 22 and month == 'Июль':\n",
    "    result += 'Рак'\n",
    "\n",
    "elif day >= 23 and month == 'Июль' or day <= 23 and month == 'Август':\n",
    "    result += 'Лев'\n",
    "\n",
    "elif day >= 24 and month == 'Август' or day <= 22 and month == 'Сентябрь':\n",
    "    result += 'Дева'\n",
    "\n",
    "elif day >= 23 and month == 'Сентябрь' or day <= 22 and month == 'Октябрь':\n",
    "    result += 'Весы'\n",
    "\n",
    "elif day >= 23 and month == 'Октябрь' or day <= 22 and month == 'Ноябрь':\n",
    "    result += 'Скорпион'\n",
    "\n",
    "elif day >= 22 and month == 'Ноябрь' or day <= 21 and month == 'Декабрь':\n",
    "    result += 'Стрелец'\n",
    "\n",
    "elif day >= 22 and month == 'Декабрь' or day <= 20 and month == 'Январь':\n",
    "    result += 'Козерог'\n",
    "\n",
    "elif day >= 21 and month == 'Январь' or day <= 19 and month == 'Февраль':\n",
    "    result += 'Водолей'\n",
    "\n",
    "elif day >= 20 and month == 'Февраль' or day <= 20 and month == 'Март':\n",
    "    result += 'Рыбы'\n",
    "    \n",
    "else:\n",
    "    result = 'Введены некорректные данные'\n",
    "\n",
    "print(result)"
   ]
  },
  {
   "cell_type": "markdown",
   "metadata": {},
   "source": [
    "### Задание 4\n",
    "Вам нужно написать программу для подбора упаковок по размерам товара. Размеры хранятся в переменных (в сантиметрах):\n",
    "\n",
    "width = 10\n",
    "\n",
    "length = 205\n",
    "\n",
    "height = 5\n",
    "\n",
    "Используйте следующие правила:\n",
    "\n",
    "* если каждое из трех измерений менее 15 сантиметров, то выведите на экран “Коробка №1”;\n",
    "* если хотя бы одно из измерений больше 15 сантиметров, но менее 50 сантиметров, то выводите “Коробка №2”;\n",
    "* если длина товара больше 2 метров, то выводите “Упаковка для лыж”;\n",
    "* во всех остальных случаях выводите “Стандартная коробка №3”."
   ]
  },
  {
   "cell_type": "code",
   "execution_count": 3,
   "metadata": {},
   "outputs": [
    {
     "name": "stdout",
     "output_type": "stream",
     "text": [
      "Упаковка для лыж\n"
     ]
    }
   ],
   "source": [
    "width = 40\n",
    "length = 202\n",
    "height = 10\n",
    "if width < 15 and length <15 and height < 15:\n",
    "    print('Коробка №1')\n",
    "elif length > 200:\n",
    "    print('Упаковка для лыж')\n",
    "elif width > 15 and width < 50 or height > 15 and height < 50 or length > 15 and length < 50:\n",
    "    print('Коробка №2')\n",
    "else:\n",
    "    print('Стандартная коробка №3')\n"
   ]
  },
  {
   "cell_type": "markdown",
   "metadata": {},
   "source": [
    "### Задание 5\n",
    "Дана переменная, в которой хранится шестизначное число (номер проездного билета). Напишите программу, которая будет определять, является ли данный билет “счастливым”. Билет считается счастливым, если сумма первых трех цифр совпадает с суммой последних трех цифр номера."
   ]
  },
  {
   "cell_type": "code",
   "execution_count": 21,
   "metadata": {},
   "outputs": [
    {
     "name": "stdout",
     "output_type": "stream",
     "text": [
      "Счастливый билет\n"
     ]
    }
   ],
   "source": [
    "number = 123321\n",
    "number_left = number // 1000\n",
    "number_right = number % 1000\n",
    "if ((number_left // 100) + ((number_left % 100) // 10) + number_left % 10 == \n",
    "(number_right // 100) + ((number_right % 100) // 10) + number_right % 10):\n",
    "    print('Счастливый билет')\n",
    "else:\n",
    "    print('Несчастливый билет')\n",
    "    \n",
    "\n"
   ]
  },
  {
   "cell_type": "markdown",
   "metadata": {},
   "source": [
    "### Задание 6\n",
    "Напишите программу, которая сможет вычислять площади трех фигур (круг, треугольник и прямоугольник). Тип фигуры запрашиваем через пользовательский ввод, после чего делаем запрос характеристик фигуры:\n",
    "\n",
    "- если пользователь выбрал круг, запрашиваем его радиус,\n",
    "- если треугольник – длины трех его сторон;\n",
    "- если прямоугольник – длины двух его сторон.\n"
   ]
  },
  {
   "cell_type": "code",
   "execution_count": 22,
   "metadata": {},
   "outputs": [
    {
     "name": "stdout",
     "output_type": "stream",
     "text": [
      "Введите тип фигуры:\n",
      "Треугольник\n",
      "Введите длину стороны A:\n",
      "2\n",
      "Введите длину стороны B:\n",
      "2\n",
      "Введите длину стороны C:\n",
      "3\n",
      "Площадь треугольника: 1.98\n"
     ]
    }
   ],
   "source": [
    "import math\n",
    "print('Введите тип фигуры:')\n",
    "figure_tipe = input()\n",
    "\n",
    "if figure_tipe == 'Круг':\n",
    "        print('Введите радиус круга:')\n",
    "        r = int(input())\n",
    "        print('Площадь круга:',round(r*r*math.pi,2))\n",
    "        \n",
    "elif figure_tipe == 'Треугольник':\n",
    "        print('Введите длину стороны A:')\n",
    "        A = int(input())\n",
    "        print('Введите длину стороны B:')\n",
    "        B = int(input())\n",
    "        print('Введите длину стороны C:')\n",
    "        C = int(input())\n",
    "        p = (A+B+C)/2\n",
    "        S = math.sqrt(p*(p-A)*(p-B)*(p-C))\n",
    "        print('Площадь треугольника:',round(S,2))\n",
    "        \n",
    "elif figure_tipe == 'Прямоугольник':\n",
    "        print('Введите длину стороны A:')\n",
    "        A = int(input())\n",
    "        print('Введите длину стороны B:')\n",
    "        B = int(input())\n",
    "        print('Площадь прямоугольника:',A*B)"
   ]
  }
 ],
 "metadata": {
  "kernelspec": {
   "display_name": "Python 3",
   "language": "python",
   "name": "python3"
  },
  "language_info": {
   "codemirror_mode": {
    "name": "ipython",
    "version": 3
   },
   "file_extension": ".py",
   "mimetype": "text/x-python",
   "name": "python",
   "nbconvert_exporter": "python",
   "pygments_lexer": "ipython3",
   "version": "3.8.5"
  }
 },
 "nbformat": 4,
 "nbformat_minor": 4
}
