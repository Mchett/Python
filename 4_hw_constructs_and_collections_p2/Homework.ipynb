{
 "cells": [
  {
   "cell_type": "markdown",
   "metadata": {},
   "source": [
    "### Задание 1\n",
    "Дана переменная, в которой хранится словарь, содержащий гео-метки для каждого пользователя (пример структуры данных приведен ниже). Вам необходимо написать программу, которая выведет на экран множество уникальных гео-меток всех пользователей."
   ]
  },
  {
   "cell_type": "code",
   "execution_count": 44,
   "metadata": {},
   "outputs": [
    {
     "name": "stdout",
     "output_type": "stream",
     "text": [
      "{98, 35, 213, 54, 119, 15}\n"
     ]
    }
   ],
   "source": [
    "ids = {'user1': [213, 213, 213, 15, 213], \n",
    "       'user2': [54, 54, 119, 119, 119], \n",
    "       'user3': [213, 98, 98, 35]}\n",
    "\n",
    "sets = set()\n",
    "for el in ids.keys():\n",
    "    sets = sets.union(set(ids.get(el)))\n",
    "print(sets)"
   ]
  },
  {
   "cell_type": "markdown",
   "metadata": {},
   "source": [
    "### Задание 2\n",
    "Дана переменная, в которой хранится список поисковых запросов пользователя (пример структуры данных приведен ниже). Вам необходимо написать программу, которая выведет на экран распределение количества слов в запросах в требуемом виде."
   ]
  },
  {
   "cell_type": "code",
   "execution_count": 40,
   "metadata": {},
   "outputs": [
    {
     "name": "stdout",
     "output_type": "stream",
     "text": [
      "Поисковых запросов, содержащих 3 слов(а): 57.14% Поисковых запросов, содержащих 2 слов(а): 42.86% "
     ]
    }
   ],
   "source": [
    "queries = [ 'смотреть сериалы онлайн', \n",
    "           'новости спорта', \n",
    "           'афиша кино', 'курс доллара',\n",
    "           'сериалы этим летом', \n",
    "           'курс по питону', 'сериалы про спорт']\n",
    "res = {}\n",
    "\n",
    "for el in queries:\n",
    "    words_count =el.count(' ') + 1\n",
    "    res.setdefault(words_count, 0)\n",
    "    res[words_count] +=  1\n",
    "    \n",
    "for el in res.keys():\n",
    "    percent = round(res.get(el)/len(queries)*100, 2)\n",
    "    print(f'Поисковых запросов, содержащих {el} слов(а): {percent}%', end = \" \")"
   ]
  },
  {
   "cell_type": "markdown",
   "metadata": {},
   "source": [
    "### Задание 3\n",
    "\n",
    "Дана переменная, в которой хранится информация о затратах и доходе рекламных кампаний по различным источникам. Необходимо дополнить исходную структуру показателем ROI, который рассчитаем по формуле: (revenue / cost - 1) * 100"
   ]
  },
  {
   "cell_type": "code",
   "execution_count": 5,
   "metadata": {},
   "outputs": [
    {
     "name": "stdout",
     "output_type": "stream",
     "text": [
      "{'vk': {'revenue': 103, 'cost': 98, 'ROI': 5.1}, 'yandex': {'revenue': 179, 'cost': 153, 'ROI': 16.99}, 'facebook': {'revenue': 103, 'cost': 110, 'ROI': -6.36}, 'adwords': {'revenue': 35, 'cost': 34, 'ROI': 2.94}, 'twitter': {'revenue': 11, 'cost': 24, 'ROI': -54.17}}\n"
     ]
    }
   ],
   "source": [
    "results = {'vk': {'revenue': 103, 'cost': 98}, \n",
    "           'yandex': {'revenue': 179, 'cost': 153}, \n",
    "           'facebook': {'revenue': 103, 'cost': 110}, \n",
    "           'adwords': {'revenue': 35, 'cost': 34}, \n",
    "           'twitter': {'revenue': 11, 'cost': 24}, }\n",
    "\n",
    "for el in results.values():\n",
    "    el['ROI'] = round((el.get('revenue') / el.get('cost') - 1) * 100, 2)\n",
    "print(results)"
   ]
  },
  {
   "cell_type": "markdown",
   "metadata": {},
   "source": [
    "### Задание 4\n",
    "Дана переменная, в которой хранится статистика рекламных каналов по объемам продаж (пример структуры данных приведен ниже). Напишите программу, которая возвращает название канала с максимальным объемом продаж."
   ]
  },
  {
   "cell_type": "code",
   "execution_count": 9,
   "metadata": {},
   "outputs": [
    {
     "name": "stdout",
     "output_type": "stream",
     "text": [
      "Максимальный объем продаж на рекламном канале: vk\n"
     ]
    }
   ],
   "source": [
    "max = 0\n",
    "company = \"\"\n",
    "stats = {'facebook': 55, 'yandex': 115, 'vk': 120, 'google': 99, 'email': 42, 'ok': 98}\n",
    "for el in stats.items():\n",
    "    if el[1] > max:\n",
    "        max = el[1]\n",
    "        company = el[0]\n",
    "print(f'Максимальный объем продаж на рекламном канале: {company}')"
   ]
  },
  {
   "cell_type": "markdown",
   "metadata": {},
   "source": [
    "### Задание 5\n",
    "Дан список произвольной длины. Необходимо написать код, который на основе исходного списка составит словарь такого уровня вложенности, какова длина исхондого списка.\n",
    "\n",
    "Примеры работы программы:\n",
    "\n",
    "my_list = [‘2018-01-01’, ‘yandex’, ‘cpc’, 100]\n",
    "Результат: {‘2018-01-01’: {‘yandex’: {‘cpc’: 100}}}\n",
    "\n",
    "my_list = [‘a’, ‘b’, ‘c’, ‘d’, ‘e’, ‘f’]\n",
    "Результат: {‘a’: {‘b’: {‘c’: {‘d’: {‘e’: ‘f’}}}}}"
   ]
  },
  {
   "cell_type": "code",
   "execution_count": 65,
   "metadata": {},
   "outputs": [
    {
     "name": "stdout",
     "output_type": "stream",
     "text": [
      "{'a': {'b': {'c': {'d': {'e': 'f'}}}}}\n"
     ]
    }
   ],
   "source": [
    "#my_list = ['2018-01-01', 'yandex', 'cpc', 100]\n",
    "my_list = ['a', 'b', 'c', 'd', 'e', 'f']\n",
    "res = {}\n",
    "cur = res\n",
    "if len(my_list) == 1:\n",
    "    res.setdefault(my_list[0])\n",
    "else:\n",
    "    for i in range (len(my_list)-2):\n",
    "        cur.setdefault(my_list[i],{})\n",
    "        cur = cur[my_list[i]]\n",
    "    cur.setdefault(my_list[(len(my_list) - 2)],my_list[(len(my_list) - 1)])\n",
    "print(res)"
   ]
  },
  {
   "cell_type": "markdown",
   "metadata": {},
   "source": [
    "### Задание 6\n",
    "Дана книга рецептов с информацией о том, сколько ингредиентов нужно для приготовления блюда в расчете на одну порцию.\n",
    "Напишите программу, которая будет запрашивать у пользователя количество порций для приготовления этих блюд и отображать информацию о суммарном количестве требуемых ингредиентов в указанном виде."
   ]
  },
  {
   "cell_type": "code",
   "execution_count": 45,
   "metadata": {},
   "outputs": [
    {
     "name": "stdout",
     "output_type": "stream",
     "text": [
      "Введите количество порций:3\n",
      "сыр: 210 гр\n",
      "томаты: 6 шт\n",
      "томаты: 60 гр\n",
      "огурцы: 60 гр\n",
      "маслины: 30 гр\n",
      "оливковое масло: 60 мл\n",
      "салат: 30 гр\n",
      "перец: 60 гр\n",
      "колбаса: 90 гр\n",
      "бекон: 90 гр\n",
      "оливки: 30 гр\n",
      "тесто: 300 гр\n",
      "лимон: 3 шт\n",
      "вода: 600 мл\n",
      "сахар: 30 гр\n",
      "лайм: 60 гр\n"
     ]
    }
   ],
   "source": [
    "count = int(input(\"Введите количество порций:\"))\n",
    "cook_book = { 'салат': \n",
    "             [{'ingridient_name': 'сыр', 'quantity': 50, 'measure': 'гр'}, \n",
    "              {'ingridient_name': 'томаты', 'quantity': 2, 'measure': 'шт'}, \n",
    "              {'ingridient_name': 'огурцы', 'quantity': 20, 'measure': 'гр'}, \n",
    "              {'ingridient_name': 'маслины', 'quantity': 10, 'measure': 'гр'}, \n",
    "              {'ingridient_name': 'оливковое масло', 'quantity': 20, 'measure': 'мл'}, \n",
    "              {'ingridient_name': 'салат', 'quantity': 10, 'measure': 'гр'}, \n",
    "              {'ingridient_name': 'перец', 'quantity': 20, 'measure': 'гр'} ], \n",
    "             'пицца': \n",
    "             [{'ingridient_name': 'сыр', 'quantity': 20, 'measure': 'гр'}, \n",
    "              {'ingridient_name': 'колбаса', 'quantity': 30, 'measure': 'гр'}, \n",
    "              {'ingridient_name': 'бекон', 'quantity': 30, 'measure': 'гр'}, \n",
    "              {'ingridient_name': 'оливки', 'quantity': 10, 'measure': 'гр'}, \n",
    "              {'ingridient_name': 'томаты', 'quantity': 20, 'measure': 'гр'}, \n",
    "              {'ingridient_name': 'тесто', 'quantity': 100, 'measure': 'гр'}, ], \n",
    "             'лимонад': \n",
    "             [{'ingridient_name': 'лимон', 'quantity': 1, 'measure': 'шт'}, \n",
    "              {'ingridient_name': 'вода', 'quantity': 200, 'measure': 'мл'}, \n",
    "              {'ingridient_name': 'сахар', 'quantity': 10, 'measure': 'гр'}, \n",
    "              {'ingridient_name': 'лайм', 'quantity': 20, 'measure': 'гр'}, ] }\n",
    "\n",
    "ingredients = {}\n",
    "\n",
    "for recipe in cook_book.values():\n",
    "    for ingredient in recipe:\n",
    "        ingredients.setdefault(ingredient['ingridient_name'], {ingredient['measure']:0})\n",
    "        ingredients[ingredient['ingridient_name']].setdefault(ingredient['measure'],0)\n",
    "        ingredients[ingredient['ingridient_name']][ingredient['measure']] +=  ingredient['quantity'] * count\n",
    "\n",
    "for ingredient in ingredients.items():\n",
    "    for measure in ingredient[1].items():\n",
    "        print(f'{ingredient[0]}: {measure[1]} {measure[0]}')"
   ]
  }
 ],
 "metadata": {
  "kernelspec": {
   "display_name": "Python 3",
   "language": "python",
   "name": "python3"
  },
  "language_info": {
   "codemirror_mode": {
    "name": "ipython",
    "version": 3
   },
   "file_extension": ".py",
   "mimetype": "text/x-python",
   "name": "python",
   "nbconvert_exporter": "python",
   "pygments_lexer": "ipython3",
   "version": "3.8.5"
  }
 },
 "nbformat": 4,
 "nbformat_minor": 4
}
