{
 "cells": [
  {
   "cell_type": "code",
   "execution_count": 99,
   "metadata": {},
   "outputs": [],
   "source": [
    "documents = [\n",
    "{'type': 'passport', 'number': '2207 876234', 'name': 'Василий Гупкин'},\n",
    "{'type': 'invoice', 'number': '11-2', 'name': 'Геннадий Покемонов'},\n",
    "{'type': 'insurance', 'number': '10006', 'name': 'Аристарх Павлов'}\n",
    "]\n",
    "\n",
    "directories = {\n",
    "'1': ['2207 876234', '11-2'],\n",
    "'2': ['10006'],\n",
    "'3': []\n",
    "}"
   ]
  },
  {
   "cell_type": "code",
   "execution_count": 100,
   "metadata": {},
   "outputs": [],
   "source": [
    "def command_p(doc):\n",
    "    \"\"\"\n",
    "    Просмотр сведений о владельце документа\n",
    "    \"\"\"\n",
    "    for element in documents:\n",
    "        if element['number'] ==  doc:\n",
    "            return f'Владелец документа:{element[\"name\"]}'\n",
    "    return \"Документ не найден в базе\""
   ]
  },
  {
   "cell_type": "code",
   "execution_count": 101,
   "metadata": {},
   "outputs": [],
   "source": [
    "def command_s(doc):\n",
    "    \"\"\"\n",
    "    Просмотр сведений о месте хранения документа\n",
    "    \"\"\"\n",
    "    for element in directories.items():\n",
    "        if doc in element[1]:\n",
    "            return element[0]\n",
    "    return \"Документ не найден в базе\""
   ]
  },
  {
   "cell_type": "code",
   "execution_count": 102,
   "metadata": {},
   "outputs": [],
   "source": [
    "def command_l():\n",
    "    \"\"\"\n",
    "    Просмотр всех документов\n",
    "    \"\"\"\n",
    "    res = \"\"\n",
    "    for element in documents:\n",
    "        place = command_s(element['number'])\n",
    "        res += (f\"№: {element['number']}, тип: {element['type']}, владелец: {element['name']}, полка хранения: {place}\\n\")\n",
    "    return res"
   ]
  },
  {
   "cell_type": "code",
   "execution_count": 103,
   "metadata": {},
   "outputs": [],
   "source": [
    "def command_as():\n",
    "    \"\"\"\n",
    "    Добавление новой полки\n",
    "    \"\"\"\n",
    "    direct = input(\"Введите номер полки:\")\n",
    "    if direct not in directories.keys():\n",
    "        directories.setdefault(direct,[])\n",
    "        return f\"Полка добавлена. Текущий перечень полок: {', '.join(directories.keys())}.\" \n",
    "    return f\"Такая полка уже существует. Текущий перечень полок: {', '.join(directories.keys())}.\""
   ]
  },
  {
   "cell_type": "code",
   "execution_count": 104,
   "metadata": {},
   "outputs": [],
   "source": [
    "def command_ds():\n",
    "    \"\"\"\n",
    "    Удаление полки\n",
    "    \"\"\"\n",
    "    direct = input(\"Введите номер полки:\")\n",
    "    if direct not in directories.keys():\n",
    "        return f\"Такой полки не существует. Текущий перечень полок: {', '.join(directories.keys())}.\" \n",
    "    if len(directories[direct]) == 0:\n",
    "        del(directories[direct])\n",
    "        return f\"Полка удалена. Текущий перечень полок: {', '.join(directories.keys())}.\"\n",
    "    return f\"На полке есть документа, удалите их перед удалением полки. Текущий перечень полок: {', '.join(directories.keys())}.\""
   ]
  },
  {
   "cell_type": "code",
   "execution_count": 105,
   "metadata": {},
   "outputs": [],
   "source": [
    "def add_on_board(doc, direct):\n",
    "    \"\"\"\n",
    "    Добавить документ на полку\n",
    "    \"\"\"\n",
    "    (directories.get(direct)).append(doc)"
   ]
  },
  {
   "cell_type": "code",
   "execution_count": 106,
   "metadata": {},
   "outputs": [],
   "source": [
    "def command_ad():\n",
    "    \"\"\"\n",
    "    Добавить новый документ в список документов\n",
    "    \"\"\"\n",
    "    doc = input(\"Введите номер документа:\")\n",
    "    doc_type = input(\"Введите тип документа:\")\n",
    "    name = input(\"Введите владельца документа:\")\n",
    "    direct = input(\"Введите полку для хранения:\")\n",
    "    if direct not in directories.keys():\n",
    "        return f\"Такой полки не существует. Добавьте полку командой as.\\nТекущий список документов:\\n\" + command_l()\n",
    "    if command_p(doc) == \"Документ не найден в базе\":\n",
    "        document = {'type': doc_type, 'number': doc, 'name': name}\n",
    "        documents.append(document)\n",
    "        add_on_board(doc, direct)\n",
    "        return \"Документ добавлен. Текущий список документов:\\n\" + command_l()\n",
    "    return \"Такой документ уже существует. Для перемещения документа воспользуйтесь командой m.\\nТекущий список документов:\\n\" + command_l()"
   ]
  },
  {
   "cell_type": "code",
   "execution_count": 107,
   "metadata": {},
   "outputs": [],
   "source": [
    "def del_from_board(doc):\n",
    "    \"\"\"\n",
    "    Удалить документ с полки\n",
    "    \"\"\"\n",
    "    (directories.get(command_s(doc))).remove(doc)"
   ]
  },
  {
   "cell_type": "code",
   "execution_count": 108,
   "metadata": {},
   "outputs": [],
   "source": [
    "def command_d():\n",
    "    \"\"\"\n",
    "    Удалить документ из списка документов\n",
    "    \"\"\"\n",
    "    doc = input(\"Введите номер документа:\")\n",
    "    if command_p(doc) != \"Документ не найден в базе\":\n",
    "        for element in documents:\n",
    "            if element['number'] ==  doc:\n",
    "                documents.remove(element)\n",
    "                break;\n",
    "        del_from_board(doc)\n",
    "        return \"Документ удален.\\nТекущий список документов:\\n\" + command_l()\n",
    "    return \"Документ не найден в базе\\nТекущий список документов:\\n\" + command_l()"
   ]
  },
  {
   "cell_type": "code",
   "execution_count": 109,
   "metadata": {},
   "outputs": [],
   "source": [
    "def command_m():\n",
    "    doc = input(\"Введите номер документа:\")\n",
    "    direct = input(\"Введите номер полки:\")\n",
    "    if command_p(doc) != \"Документ не найден в базе\":\n",
    "        del_from_board(doc)\n",
    "        add_on_board(doc, direct)\n",
    "        return \"Документ перемещен.\\nТекущий список документов:\\n\" + command_l()\n",
    "    return \"Документ не найден в базе\\nТекущий список документов:\\n\" + command_l()"
   ]
  },
  {
   "cell_type": "code",
   "execution_count": 111,
   "metadata": {},
   "outputs": [
    {
     "name": "stdout",
     "output_type": "stream",
     "text": [
      "Введите команду:ad\n",
      "Введите номер документа:11-2\n",
      "Введите тип документа:1\n",
      "Введите владельца документа:1\n",
      "Введите полку для хранения:1\n",
      "Такой документ уже существует. Для перемещения документа воспользуйтесь командой m.\n",
      "Текущий список документов:\n",
      "№: 2207 876234, тип: passport, владелец: Василий Гупкин, полка хранения: 1\n",
      "№: 11-2, тип: invoice, владелец: Геннадий Покемонов, полка хранения: 3\n",
      "№: 10006, тип: insurance, владелец: Аристарх Павлов, полка хранения: 2\n",
      "\n",
      "Введите команду:11-1\n",
      "Данной команды не существует!\n",
      "Введите команду:1\n",
      "Данной команды не существует!\n",
      "Введите команду:1\n",
      "Данной команды не существует!\n",
      "Введите команду:ad\n",
      "Введите номер документа:11-1\n",
      "Введите тип документа:q\n",
      "Введите владельца документа:1\n",
      "Введите полку для хранения:q\n",
      "Такой полки не существует. Добавьте полку командой as.\n",
      "Текущий список документов:\n",
      "№: 2207 876234, тип: passport, владелец: Василий Гупкин, полка хранения: 1\n",
      "№: 11-2, тип: invoice, владелец: Геннадий Покемонов, полка хранения: 3\n",
      "№: 10006, тип: insurance, владелец: Аристарх Павлов, полка хранения: 2\n",
      "\n",
      "Введите команду:ad\n",
      "Введите номер документа:11-1\n",
      "Введите тип документа:1\n",
      "Введите владельца документа:1\n",
      "Введите полку для хранения:1\n",
      "Документ добавлен. Текущий список документов:\n",
      "№: 2207 876234, тип: passport, владелец: Василий Гупкин, полка хранения: 1\n",
      "№: 11-2, тип: invoice, владелец: Геннадий Покемонов, полка хранения: 3\n",
      "№: 10006, тип: insurance, владелец: Аристарх Павлов, полка хранения: 2\n",
      "№: 11-1, тип: 1, владелец: 1, полка хранения: 1\n",
      "\n",
      "Введите команду:m\n",
      "Введите номер документа:11-1\n",
      "Введите номер полки:3\n",
      "Документ перемещен.\n",
      "Текущий список документов:\n",
      "№: 2207 876234, тип: passport, владелец: Василий Гупкин, полка хранения: 1\n",
      "№: 11-2, тип: invoice, владелец: Геннадий Покемонов, полка хранения: 3\n",
      "№: 10006, тип: insurance, владелец: Аристарх Павлов, полка хранения: 2\n",
      "№: 11-1, тип: 1, владелец: 1, полка хранения: 3\n",
      "\n",
      "Введите команду:d\n",
      "Введите номер документа:11-1\n",
      "Документ удален.\n",
      "Текущий список документов:\n",
      "№: 2207 876234, тип: passport, владелец: Василий Гупкин, полка хранения: 1\n",
      "№: 11-2, тип: invoice, владелец: Геннадий Покемонов, полка хранения: 3\n",
      "№: 10006, тип: insurance, владелец: Аристарх Павлов, полка хранения: 2\n",
      "\n",
      "Введите команду:d\n",
      "Введите номер документа:11-2\n",
      "Документ удален.\n",
      "Текущий список документов:\n",
      "№: 2207 876234, тип: passport, владелец: Василий Гупкин, полка хранения: 1\n",
      "№: 10006, тип: insurance, владелец: Аристарх Павлов, полка хранения: 2\n",
      "\n",
      "Введите команду:ds\n",
      "Введите номер полки:1\n",
      "На полке есть документа, удалите их перед удалением полки. Текущий перечень полок: 1, 2, 3.\n",
      "Введите команду:ds\n",
      "Введите номер полки:3\n",
      "Полка удалена. Текущий перечень полок: 1, 2.\n",
      "Введите команду:q\n"
     ]
    }
   ],
   "source": [
    "def main():\n",
    "    res = \"\"\n",
    "    while(True):\n",
    "        command = input(\"Введите команду:\")\n",
    "        if command == \"p\":\n",
    "            doc = input(\"Введите номер документа:\")\n",
    "            res = command_p(doc)\n",
    "        elif command == \"s\":\n",
    "            doc = input(\"Введите номер документа:\")\n",
    "            res = command_s(doc)\n",
    "            if res != \"Документ не найден в базе\":\n",
    "                res = 'Документ хранится на полке:' + str(res)\n",
    "        elif command == \"l\":\n",
    "            res = command_l()\n",
    "        elif command == \"ds\":\n",
    "            \n",
    "            res = command_ds()\n",
    "        elif command == \"as\":\n",
    "            res = command_as()\n",
    "        elif command == \"ad\":\n",
    "            res = command_ad()\n",
    "        elif command == \"d\":\n",
    "            res = command_d()\n",
    "        elif command == \"m\":\n",
    "            res = command_m()\n",
    "        elif command == \"q\":\n",
    "            break\n",
    "        else:\n",
    "            res = \"Данной команды не существует!\"\n",
    "        print(res)\n",
    "\n",
    "main()"
   ]
  },
  {
   "cell_type": "code",
   "execution_count": null,
   "metadata": {},
   "outputs": [],
   "source": []
  }
 ],
 "metadata": {
  "kernelspec": {
   "display_name": "Python 3",
   "language": "python",
   "name": "python3"
  },
  "language_info": {
   "codemirror_mode": {
    "name": "ipython",
    "version": 3
   },
   "file_extension": ".py",
   "mimetype": "text/x-python",
   "name": "python",
   "nbconvert_exporter": "python",
   "pygments_lexer": "ipython3",
   "version": "3.8.5"
  }
 },
 "nbformat": 4,
 "nbformat_minor": 4
}
