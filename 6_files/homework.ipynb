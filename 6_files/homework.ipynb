{
 "cells": [
  {
   "cell_type": "code",
   "execution_count": 15,
   "metadata": {},
   "outputs": [],
   "source": [
    "import json\n",
    "diction = {}\n",
    "with open(\"purchase_log.txt\",'r',encoding=\"utf-8\") as f:\n",
    "    for i, line in enumerate(f):\n",
    "        diction.setdefault(json.loads(line)['user_id'],json.loads(line)['category'])                           "
   ]
  },
  {
   "cell_type": "code",
   "execution_count": 25,
   "metadata": {},
   "outputs": [],
   "source": [
    "with open(\"funnel.csv\",'w') as w:\n",
    "    r = open(\"visit_log.csv\",'r',encoding=\"utf-8\")\n",
    "    for i, line in enumerate(r):\n",
    "        words = line.strip().split(',')\n",
    "        category = diction.get(words[0],\"-1\")\n",
    "        if category != \"-1\":\n",
    "            w.write(f'{words[0]},{words[1]},{category}\\n')"
   ]
  },
  {
   "cell_type": "code",
   "execution_count": null,
   "metadata": {},
   "outputs": [],
   "source": []
  }
 ],
 "metadata": {
  "kernelspec": {
   "display_name": "Python 3",
   "language": "python",
   "name": "python3"
  },
  "language_info": {
   "codemirror_mode": {
    "name": "ipython",
    "version": 3
   },
   "file_extension": ".py",
   "mimetype": "text/x-python",
   "name": "python",
   "nbconvert_exporter": "python",
   "pygments_lexer": "ipython3",
   "version": "3.8.5"
  }
 },
 "nbformat": 4,
 "nbformat_minor": 4
}
