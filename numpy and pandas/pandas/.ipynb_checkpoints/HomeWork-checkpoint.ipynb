{
 "cells": [
  {
   "cell_type": "code",
   "execution_count": 12,
   "metadata": {},
   "outputs": [],
   "source": [
    "import pandas as pd"
   ]
  },
  {
   "cell_type": "markdown",
   "metadata": {},
   "source": [
    "### Задание 1\n",
    "Скачайте с сайта grouplens.org...movielens/ датасет любого размера. Определите какому фильму было выставлено больше всего оценок 5.0.\n",
    "\n"
   ]
  },
  {
   "cell_type": "code",
   "execution_count": 48,
   "metadata": {},
   "outputs": [
    {
     "data": {
      "text/html": [
       "<div>\n",
       "<style scoped>\n",
       "    .dataframe tbody tr th:only-of-type {\n",
       "        vertical-align: middle;\n",
       "    }\n",
       "\n",
       "    .dataframe tbody tr th {\n",
       "        vertical-align: top;\n",
       "    }\n",
       "\n",
       "    .dataframe thead th {\n",
       "        text-align: right;\n",
       "    }\n",
       "</style>\n",
       "<table border=\"1\" class=\"dataframe\">\n",
       "  <thead>\n",
       "    <tr style=\"text-align: right;\">\n",
       "      <th></th>\n",
       "      <th>movieId</th>\n",
       "      <th>title</th>\n",
       "    </tr>\n",
       "  </thead>\n",
       "  <tbody>\n",
       "    <tr>\n",
       "      <th>277</th>\n",
       "      <td>318</td>\n",
       "      <td>Shawshank Redemption, The (1994)</td>\n",
       "    </tr>\n",
       "  </tbody>\n",
       "</table>\n",
       "</div>"
      ],
      "text/plain": [
       "     movieId                             title\n",
       "277      318  Shawshank Redemption, The (1994)"
      ]
     },
     "execution_count": 48,
     "metadata": {},
     "output_type": "execute_result"
    }
   ],
   "source": [
    "data_rating = ((pd.read_csv('ratings.csv')\n",
    "                .filter(items = ['movieId', 'rating'])\n",
    "                .query('rating == 5.0'))['movieId'].value_counts().index.tolist())[0]\n",
    "data_movie = pd.read_csv('movies.csv').filter(items = ['movieId', 'title']).query('movieId == {}'.format(data_rating))\n",
    "data_movie"
   ]
  },
  {
   "cell_type": "markdown",
   "metadata": {},
   "source": [
    "### Задание 2\n",
    "По данным файла power.csv посчитайте суммарное потребление стран Прибалтики (Латвия, Литва и Эстония) категорий 4, 12 и 21 за период с 2005 по 2010 года. Не учитывайте в расчетах отрицательные значения quantity.\n",
    "\n"
   ]
  },
  {
   "cell_type": "code",
   "execution_count": 75,
   "metadata": {},
   "outputs": [
    {
     "data": {
      "text/plain": [
       "240580.0"
      ]
     },
     "execution_count": 75,
     "metadata": {},
     "output_type": "execute_result"
    }
   ],
   "source": [
    "(pd.read_csv('power.csv')\n",
    " .query('country in [\"Latvia\",\"Lithuania\",\"Estonia\"]')\n",
    " .query('year >= 2005 and year <= 2010 and quantity > 0')\n",
    " .query('category == 4 or category == 12 or category == 21')\n",
    ")['quantity'].sum()"
   ]
  },
  {
   "cell_type": "markdown",
   "metadata": {},
   "source": [
    "### Задание 3\n",
    "Выберите страницу любого сайта с табличными данными. Импортируйте таблицы в pandas dataframe.\n",
    "Примеры страниц (необязательно брать именно эти):  \n",
    "https://fortrader.org/quotes  \n",
    "www.finanz.ru...om-vremeni"
   ]
  },
  {
   "cell_type": "code",
   "execution_count": 73,
   "metadata": {},
   "outputs": [
    {
     "data": {
      "text/plain": [
       "[                                                    0  \\\n",
       " 0         Направления внешней политики России 17 века   \n",
       " 1        Северо-западное направление внешней политики   \n",
       " 2   Возврат территорий России, утраченных в годы С...   \n",
       " 3                  Русско-шведская война 1656-1661 гг   \n",
       " 4                   Юго-западное направление политики   \n",
       " 5   Попытка России вернуть русские земли (прежде в...   \n",
       " 6                    Смоленская война 1632-1634 годов   \n",
       " 7                   Вхождение Украины в состав России   \n",
       " 8               Русско-польская война 1654-1667 годов   \n",
       " 9                          Южное направление политики   \n",
       " 10                          Борьба с Крымом и Турцией   \n",
       " 11              Русско-турецкая война 1676-1681 годов   \n",
       " 12  Крымские походы Василия Голицина 1687 - 1689, ...   \n",
       " 13                   Азовский поход 1696 года Петра 1   \n",
       " 14  Восточное направление политики  (adsbygoogle =...   \n",
       " 15                 Освоение Сибири и Дальнего Востока   \n",
       " 16      Пограничный конфликт с Китаем 1684 - 1689 гг.   \n",
       " \n",
       "                                                     1  \n",
       " 0                            Основные события и итоги  \n",
       " 1        Северо-западное направление внешней политики  \n",
       " 2   Столбовский мирный договор между Россией и Шве...  \n",
       " 3   Борьба со Швецией за выход к Балтийскому морю,...  \n",
       " 4                   Юго-западное направление политики  \n",
       " 5   1614 - 1615 гг - Попытка России вернуть Смолен...  \n",
       " 6   Россия в войне с Польшей снова пыталась вернут...  \n",
       " 7   Освободительная война украинского народа с Реч...  \n",
       " 8   Русско-польская война 1654-1667 годов стала сл...  \n",
       " 9                          Южное направление политики  \n",
       " 10  Напряженные отношения России и Крымского ханст...  \n",
       " 11  Военные действия за контроль над Южной Украино...  \n",
       " 12  Борьба с Османской мперией и Крымским ханством...  \n",
       " 13  Константинопольский мирный договор 03.07.1700 ...  \n",
       " 14  Восточное направление политики  (adsbygoogle =...  \n",
       " 15  Присоединение Западной Сибири (покорение Сибир...  \n",
       " 16  Российская колонизация восточной Сибири. 29 ав...  ,\n",
       "                               0                             1  \\\n",
       " 0  Подписываемся на обновления!  Подписываемся на обновления!   \n",
       " 1                           NaN                           NaN   \n",
       " \n",
       "                               2  \n",
       " 0  Подписываемся на обновления!  \n",
       " 1                           NaN  ,\n",
       "     0   1\n",
       " 0 NaN NaN]"
      ]
     },
     "execution_count": 73,
     "metadata": {},
     "output_type": "execute_result"
    }
   ],
   "source": [
    "pd.read_html('https://infotables.ru/istoriya/83-rossiya-v-16v/1008-vneshnyaya-politika-rossii-17-veka')"
   ]
  }
 ],
 "metadata": {
  "kernelspec": {
   "display_name": "Python 3 (ipykernel)",
   "language": "python",
   "name": "python3"
  },
  "language_info": {
   "codemirror_mode": {
    "name": "ipython",
    "version": 3
   },
   "file_extension": ".py",
   "mimetype": "text/x-python",
   "name": "python",
   "nbconvert_exporter": "python",
   "pygments_lexer": "ipython3",
   "version": "3.8.5"
  }
 },
 "nbformat": 4,
 "nbformat_minor": 4
}
