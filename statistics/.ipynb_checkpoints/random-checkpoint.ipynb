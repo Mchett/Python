{
 "cells": [
  {
   "cell_type": "markdown",
   "id": "1adfe472",
   "metadata": {},
   "source": [
    "Домашнее задание к лекции «Случайные события. Случайные величины»\n",
    "\n",
    "Смоделировать игру против лотерейного автомата типа “777”. Игрок платит 1 руб., после чего выпадает случайное целое число, равномерно распределенное от 0 до 999. При некоторых значениях числа игрок получает выигрыш.\n",
    "\n",
    "- 777: 200 руб.\n",
    "- 999: 100 руб.\n",
    "- 555: 50 руб.\n",
    "- 333: 15 руб.\n",
    "- 111: 10 руб.\n",
    "- *77: 5 руб.\n",
    "- **7: 3 руб.\n",
    "- *00: 2 руб.\n",
    "- **0: 1 руб.\n",
    "\n",
    "Вопросы:\n",
    "\n",
    "- Выгодна ли игра игроку?\n",
    "- Сколько в среднем приобретает или теряет игрок за одну игру?"
   ]
  },
  {
   "cell_type": "code",
   "execution_count": 13,
   "id": "ba2ff2c6",
   "metadata": {},
   "outputs": [
    {
     "name": "stdout",
     "output_type": "stream",
     "text": [
      "-1994919\n",
      "-0.1994919\n"
     ]
    }
   ],
   "source": [
    "import numpy as np\n",
    "\n",
    "trials = 10000000\n",
    "cash = 0\n",
    "\n",
    "for i in range(trials):\n",
    "    cash -= 1\n",
    "    random_score = np.random.randint(0, 1000)\n",
    "    if random_score == 777:\n",
    "        cash += 200\n",
    "    elif random_score == 999:\n",
    "        cash += 100\n",
    "    elif random_score == 555:\n",
    "        cash += 50\n",
    "    elif random_score == 333:\n",
    "        cash += 15\n",
    "    elif random_score == 111:\n",
    "        cash += 10\n",
    "    elif random_score % 100 == 77:\n",
    "        cash += 5\n",
    "    elif random_score % 10 == 7:\n",
    "        cash += 3\n",
    "    elif random_score % 100 == 0:\n",
    "        cash += 2\n",
    "    elif random_score % 10 == 0:\n",
    "        cash += 1\n",
    "\n",
    "print(cash)\n",
    "print(cash/trials)"
   ]
  },
  {
   "cell_type": "markdown",
   "id": "b6fc2f87",
   "metadata": {},
   "source": [
    "- Игра не выгодна\n",
    "- В среднем за 1 игру игрок теряет 0.2 рубля"
   ]
  },
  {
   "cell_type": "markdown",
   "id": "1872006d",
   "metadata": {},
   "source": [
    "Теоретически рассчитать средний выигрыш (проигрыш) и сравнить с результатами моделирования"
   ]
  },
  {
   "cell_type": "markdown",
   "id": "f945b55f",
   "metadata": {},
   "source": [
    "| Результат     | Вероятность   | Выигрыш  |\n",
    "| ------------- |:-------------:| :------: |\n",
    "|777|0,001|200|\n",
    "|999|0,001|100|\n",
    "|555|0,001|50|\n",
    "|333|0,001|15|\n",
    "|111|0,001|10|\n",
    "|*77|0,009|5|\n",
    "|**7|0,09|3|\n",
    "|*00|0,01|2|\n",
    "|**0|0,09|1|\n",
    "\n",
    "0.001 * 200 + 0.001 * 100 + 0.001 * 50 + 0.001 * 15 + 0.001 * 10 + 0.009 * 5 + 0.09 * 3 + 0.01 * 2 + 0.09 * 1 = 0.8\n",
    "\n",
    "Так как на каждую игру мы тратим 1 рубль, нужно еще из полученного результата вычесть 1.\n",
    "\n",
    "0.8 - 1 = -0.2\n",
    "\n",
    "Ответ: в среднем игрок теряет 0.2 рубля за игру"
   ]
  }
 ],
 "metadata": {
  "kernelspec": {
   "display_name": "Python 3 (ipykernel)",
   "language": "python",
   "name": "python3"
  },
  "language_info": {
   "codemirror_mode": {
    "name": "ipython",
    "version": 3
   },
   "file_extension": ".py",
   "mimetype": "text/x-python",
   "name": "python",
   "nbconvert_exporter": "python",
   "pygments_lexer": "ipython3",
   "version": "3.8.5"
  }
 },
 "nbformat": 4,
 "nbformat_minor": 5
}
